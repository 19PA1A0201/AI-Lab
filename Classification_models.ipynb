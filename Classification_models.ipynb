{
  "nbformat": 4,
  "nbformat_minor": 0,
  "metadata": {
    "kernelspec": {
      "display_name": "Python 3",
      "language": "python",
      "name": "python3"
    },
    "language_info": {
      "codemirror_mode": {
        "name": "ipython",
        "version": 3
      },
      "file_extension": ".py",
      "mimetype": "text/x-python",
      "name": "python",
      "nbconvert_exporter": "python",
      "pygments_lexer": "ipython3",
      "version": "3.8.3"
    },
    "colab": {
      "name": "Classification models.ipynb",
      "provenance": [],
      "include_colab_link": true
    }
  },
  "cells": [
    {
      "cell_type": "markdown",
      "metadata": {
        "id": "view-in-github",
        "colab_type": "text"
      },
      "source": [
        "<a href=\"https://colab.research.google.com/github/19PA1A0201/AI-Lab/blob/master/Classification_models.ipynb\" target=\"_parent\"><img src=\"https://colab.research.google.com/assets/colab-badge.svg\" alt=\"Open In Colab\"/></a>"
      ]
    },
    {
      "cell_type": "markdown",
      "metadata": {
        "id": "DZb82vvXzgk_"
      },
      "source": [
        "# 6. Classification\n",
        "\n",
        "# Decision tree, KNN, SVM, Logistic regression and Naive bayes"
      ]
    },
    {
      "cell_type": "markdown",
      "metadata": {
        "id": "uJnrEiSxzglI"
      },
      "source": [
        "## 1) Import the necessary packages."
      ]
    },
    {
      "cell_type": "code",
      "metadata": {
        "id": "8PTayhdkzglJ"
      },
      "source": [
        "import numpy as np\n",
        "import pandas as pd\n",
        "\n",
        "from sklearn.tree import DecisionTreeClassifier\n",
        "from sklearn.neighbors import KNeighborsClassifier\n",
        "from sklearn.linear_model import LogisticRegression\n",
        "from sklearn.svm import SVC\n",
        "from sklearn.naive_bayes import GaussianNB\n",
        "\n",
        "from sklearn.model_selection import train_test_split\n",
        "from sklearn import metrics"
      ],
      "execution_count": null,
      "outputs": []
    },
    {
      "cell_type": "markdown",
      "metadata": {
        "id": "vnUqR2SwzglN"
      },
      "source": [
        "## 2) Import the dataset"
      ]
    },
    {
      "cell_type": "code",
      "metadata": {
        "id": "5bODMC3gzglN",
        "outputId": "f4e925c3-e908-4d84-932b-9ae43337d6f3"
      },
      "source": [
        "data=pd.read_csv(\"students_placement_data.csv\")\n",
        "data.head()"
      ],
      "execution_count": null,
      "outputs": [
        {
          "output_type": "execute_result",
          "data": {
            "text/html": [
              "<div>\n",
              "<style scoped>\n",
              "    .dataframe tbody tr th:only-of-type {\n",
              "        vertical-align: middle;\n",
              "    }\n",
              "\n",
              "    .dataframe tbody tr th {\n",
              "        vertical-align: top;\n",
              "    }\n",
              "\n",
              "    .dataframe thead th {\n",
              "        text-align: right;\n",
              "    }\n",
              "</style>\n",
              "<table border=\"1\" class=\"dataframe\">\n",
              "  <thead>\n",
              "    <tr style=\"text-align: right;\">\n",
              "      <th></th>\n",
              "      <th>Roll No</th>\n",
              "      <th>Gender</th>\n",
              "      <th>Section</th>\n",
              "      <th>SSC Percentage</th>\n",
              "      <th>inter_Diploma_percentage</th>\n",
              "      <th>B.Tech_percentage</th>\n",
              "      <th>Backlogs</th>\n",
              "      <th>registered_for_ Placement_Training</th>\n",
              "      <th>placement status</th>\n",
              "    </tr>\n",
              "  </thead>\n",
              "  <tbody>\n",
              "    <tr>\n",
              "      <th>0</th>\n",
              "      <td>1</td>\n",
              "      <td>M</td>\n",
              "      <td>A</td>\n",
              "      <td>87.3</td>\n",
              "      <td>65.3</td>\n",
              "      <td>40.00</td>\n",
              "      <td>18</td>\n",
              "      <td>NO</td>\n",
              "      <td>Not placed</td>\n",
              "    </tr>\n",
              "    <tr>\n",
              "      <th>1</th>\n",
              "      <td>2</td>\n",
              "      <td>F</td>\n",
              "      <td>A</td>\n",
              "      <td>89.0</td>\n",
              "      <td>92.4</td>\n",
              "      <td>71.45</td>\n",
              "      <td>0</td>\n",
              "      <td>yes</td>\n",
              "      <td>Placed</td>\n",
              "    </tr>\n",
              "    <tr>\n",
              "      <th>2</th>\n",
              "      <td>3</td>\n",
              "      <td>F</td>\n",
              "      <td>A</td>\n",
              "      <td>67.0</td>\n",
              "      <td>68.0</td>\n",
              "      <td>45.26</td>\n",
              "      <td>13</td>\n",
              "      <td>yes</td>\n",
              "      <td>Not placed</td>\n",
              "    </tr>\n",
              "    <tr>\n",
              "      <th>3</th>\n",
              "      <td>4</td>\n",
              "      <td>M</td>\n",
              "      <td>A</td>\n",
              "      <td>71.0</td>\n",
              "      <td>70.4</td>\n",
              "      <td>36.47</td>\n",
              "      <td>17</td>\n",
              "      <td>yes</td>\n",
              "      <td>Not placed</td>\n",
              "    </tr>\n",
              "    <tr>\n",
              "      <th>4</th>\n",
              "      <td>5</td>\n",
              "      <td>M</td>\n",
              "      <td>A</td>\n",
              "      <td>NaN</td>\n",
              "      <td>65.5</td>\n",
              "      <td>42.52</td>\n",
              "      <td>17</td>\n",
              "      <td>yes</td>\n",
              "      <td>Not placed</td>\n",
              "    </tr>\n",
              "  </tbody>\n",
              "</table>\n",
              "</div>"
            ],
            "text/plain": [
              "   Roll No Gender Section  SSC Percentage  inter_Diploma_percentage  \\\n",
              "0        1      M       A            87.3                      65.3   \n",
              "1        2      F       A            89.0                      92.4   \n",
              "2        3      F       A            67.0                      68.0   \n",
              "3        4      M       A            71.0                      70.4   \n",
              "4        5      M       A             NaN                      65.5   \n",
              "\n",
              "   B.Tech_percentage  Backlogs registered_for_ Placement_Training  \\\n",
              "0              40.00        18                                 NO   \n",
              "1              71.45         0                                yes   \n",
              "2              45.26        13                                yes   \n",
              "3              36.47        17                                yes   \n",
              "4              42.52        17                                yes   \n",
              "\n",
              "  placement status  \n",
              "0       Not placed  \n",
              "1           Placed  \n",
              "2       Not placed  \n",
              "3       Not placed  \n",
              "4       Not placed  "
            ]
          },
          "metadata": {
            "tags": []
          },
          "execution_count": 2
        }
      ]
    },
    {
      "cell_type": "markdown",
      "metadata": {
        "id": "WSIP7ZOBzglP"
      },
      "source": [
        "## 3) Data preprocessing "
      ]
    },
    {
      "cell_type": "markdown",
      "metadata": {
        "id": "plErZaIWzglP"
      },
      "source": [
        "### 3.1) Check for missing values and fill it"
      ]
    },
    {
      "cell_type": "code",
      "metadata": {
        "id": "iEMRT9X3zglP",
        "outputId": "a8245bad-f326-4816-d916-c0efaaa49547"
      },
      "source": [
        "data.isna().any()"
      ],
      "execution_count": null,
      "outputs": [
        {
          "output_type": "execute_result",
          "data": {
            "text/plain": [
              "Roll No                               False\n",
              "Gender                                False\n",
              "Section                               False\n",
              "SSC Percentage                         True\n",
              "inter_Diploma_percentage              False\n",
              "B.Tech_percentage                     False\n",
              "Backlogs                              False\n",
              "registered_for_ Placement_Training     True\n",
              "placement status                      False\n",
              "dtype: bool"
            ]
          },
          "metadata": {
            "tags": []
          },
          "execution_count": 3
        }
      ]
    },
    {
      "cell_type": "markdown",
      "metadata": {
        "id": "glxK-qqLzglQ"
      },
      "source": [
        "We see that \"SSC Percentage\" and \"registered_for_ Placement_Training\"   are having missing values"
      ]
    },
    {
      "cell_type": "markdown",
      "metadata": {
        "id": "exfJasPhzglQ"
      },
      "source": [
        "### 3.1.1) We replace the missing values in \"SSC Percentage\" with mean SSC percentage of all students."
      ]
    },
    {
      "cell_type": "code",
      "metadata": {
        "id": "c0DmzV44zglR",
        "outputId": "e813e38a-483e-4ed8-d599-3c054646a9e2"
      },
      "source": [
        "data[\"SSC Percentage\"]=data[\"SSC Percentage\"].replace(to_replace=np.nan,value=data[\"SSC Percentage\"].mean())  \n",
        "data.head()"
      ],
      "execution_count": null,
      "outputs": [
        {
          "output_type": "execute_result",
          "data": {
            "text/html": [
              "<div>\n",
              "<style scoped>\n",
              "    .dataframe tbody tr th:only-of-type {\n",
              "        vertical-align: middle;\n",
              "    }\n",
              "\n",
              "    .dataframe tbody tr th {\n",
              "        vertical-align: top;\n",
              "    }\n",
              "\n",
              "    .dataframe thead th {\n",
              "        text-align: right;\n",
              "    }\n",
              "</style>\n",
              "<table border=\"1\" class=\"dataframe\">\n",
              "  <thead>\n",
              "    <tr style=\"text-align: right;\">\n",
              "      <th></th>\n",
              "      <th>Roll No</th>\n",
              "      <th>Gender</th>\n",
              "      <th>Section</th>\n",
              "      <th>SSC Percentage</th>\n",
              "      <th>inter_Diploma_percentage</th>\n",
              "      <th>B.Tech_percentage</th>\n",
              "      <th>Backlogs</th>\n",
              "      <th>registered_for_ Placement_Training</th>\n",
              "      <th>placement status</th>\n",
              "    </tr>\n",
              "  </thead>\n",
              "  <tbody>\n",
              "    <tr>\n",
              "      <th>0</th>\n",
              "      <td>1</td>\n",
              "      <td>M</td>\n",
              "      <td>A</td>\n",
              "      <td>87.300000</td>\n",
              "      <td>65.3</td>\n",
              "      <td>40.00</td>\n",
              "      <td>18</td>\n",
              "      <td>NO</td>\n",
              "      <td>Not placed</td>\n",
              "    </tr>\n",
              "    <tr>\n",
              "      <th>1</th>\n",
              "      <td>2</td>\n",
              "      <td>F</td>\n",
              "      <td>A</td>\n",
              "      <td>89.000000</td>\n",
              "      <td>92.4</td>\n",
              "      <td>71.45</td>\n",
              "      <td>0</td>\n",
              "      <td>yes</td>\n",
              "      <td>Placed</td>\n",
              "    </tr>\n",
              "    <tr>\n",
              "      <th>2</th>\n",
              "      <td>3</td>\n",
              "      <td>F</td>\n",
              "      <td>A</td>\n",
              "      <td>67.000000</td>\n",
              "      <td>68.0</td>\n",
              "      <td>45.26</td>\n",
              "      <td>13</td>\n",
              "      <td>yes</td>\n",
              "      <td>Not placed</td>\n",
              "    </tr>\n",
              "    <tr>\n",
              "      <th>3</th>\n",
              "      <td>4</td>\n",
              "      <td>M</td>\n",
              "      <td>A</td>\n",
              "      <td>71.000000</td>\n",
              "      <td>70.4</td>\n",
              "      <td>36.47</td>\n",
              "      <td>17</td>\n",
              "      <td>yes</td>\n",
              "      <td>Not placed</td>\n",
              "    </tr>\n",
              "    <tr>\n",
              "      <th>4</th>\n",
              "      <td>5</td>\n",
              "      <td>M</td>\n",
              "      <td>A</td>\n",
              "      <td>80.474569</td>\n",
              "      <td>65.5</td>\n",
              "      <td>42.52</td>\n",
              "      <td>17</td>\n",
              "      <td>yes</td>\n",
              "      <td>Not placed</td>\n",
              "    </tr>\n",
              "  </tbody>\n",
              "</table>\n",
              "</div>"
            ],
            "text/plain": [
              "   Roll No Gender Section  SSC Percentage  inter_Diploma_percentage  \\\n",
              "0        1      M       A       87.300000                      65.3   \n",
              "1        2      F       A       89.000000                      92.4   \n",
              "2        3      F       A       67.000000                      68.0   \n",
              "3        4      M       A       71.000000                      70.4   \n",
              "4        5      M       A       80.474569                      65.5   \n",
              "\n",
              "   B.Tech_percentage  Backlogs registered_for_ Placement_Training  \\\n",
              "0              40.00        18                                 NO   \n",
              "1              71.45         0                                yes   \n",
              "2              45.26        13                                yes   \n",
              "3              36.47        17                                yes   \n",
              "4              42.52        17                                yes   \n",
              "\n",
              "  placement status  \n",
              "0       Not placed  \n",
              "1           Placed  \n",
              "2       Not placed  \n",
              "3       Not placed  \n",
              "4       Not placed  "
            ]
          },
          "metadata": {
            "tags": []
          },
          "execution_count": 4
        }
      ]
    },
    {
      "cell_type": "markdown",
      "metadata": {
        "id": "U993BkvozglR"
      },
      "source": [
        "### 3.1.2) We replace missing values in \"registered_for_ Placement_Training\" with the most frequent value in \"registered_for_ Placement_Training\" column. "
      ]
    },
    {
      "cell_type": "code",
      "metadata": {
        "id": "5euLXqTEzglR",
        "outputId": "9d3f0f97-67f7-46f3-fc63-336a13a57e3b"
      },
      "source": [
        "data[\"registered_for_ Placement_Training\"]=data[\"registered_for_ Placement_Training\"].replace(to_replace=np.nan,value=data[\"registered_for_ Placement_Training\"].mode()[0])  \n",
        "data.head()\n",
        "\n",
        "# Note: We have used \"mode()[0]\" . because, mode() returns a series object. But we need only string. \n",
        "#So, mode()[0] is used to pic the string from the series. \n",
        "# If you execute \n",
        "\n",
        "#data[\"registered_for_ Placement_Training\"].mode() \n",
        "\n",
        "# then it returns a series object\n",
        "\n",
        "# 0    yes\n",
        "# dtype: object"
      ],
      "execution_count": null,
      "outputs": [
        {
          "output_type": "execute_result",
          "data": {
            "text/html": [
              "<div>\n",
              "<style scoped>\n",
              "    .dataframe tbody tr th:only-of-type {\n",
              "        vertical-align: middle;\n",
              "    }\n",
              "\n",
              "    .dataframe tbody tr th {\n",
              "        vertical-align: top;\n",
              "    }\n",
              "\n",
              "    .dataframe thead th {\n",
              "        text-align: right;\n",
              "    }\n",
              "</style>\n",
              "<table border=\"1\" class=\"dataframe\">\n",
              "  <thead>\n",
              "    <tr style=\"text-align: right;\">\n",
              "      <th></th>\n",
              "      <th>Roll No</th>\n",
              "      <th>Gender</th>\n",
              "      <th>Section</th>\n",
              "      <th>SSC Percentage</th>\n",
              "      <th>inter_Diploma_percentage</th>\n",
              "      <th>B.Tech_percentage</th>\n",
              "      <th>Backlogs</th>\n",
              "      <th>registered_for_ Placement_Training</th>\n",
              "      <th>placement status</th>\n",
              "    </tr>\n",
              "  </thead>\n",
              "  <tbody>\n",
              "    <tr>\n",
              "      <th>0</th>\n",
              "      <td>1</td>\n",
              "      <td>M</td>\n",
              "      <td>A</td>\n",
              "      <td>87.300000</td>\n",
              "      <td>65.3</td>\n",
              "      <td>40.00</td>\n",
              "      <td>18</td>\n",
              "      <td>NO</td>\n",
              "      <td>Not placed</td>\n",
              "    </tr>\n",
              "    <tr>\n",
              "      <th>1</th>\n",
              "      <td>2</td>\n",
              "      <td>F</td>\n",
              "      <td>A</td>\n",
              "      <td>89.000000</td>\n",
              "      <td>92.4</td>\n",
              "      <td>71.45</td>\n",
              "      <td>0</td>\n",
              "      <td>yes</td>\n",
              "      <td>Placed</td>\n",
              "    </tr>\n",
              "    <tr>\n",
              "      <th>2</th>\n",
              "      <td>3</td>\n",
              "      <td>F</td>\n",
              "      <td>A</td>\n",
              "      <td>67.000000</td>\n",
              "      <td>68.0</td>\n",
              "      <td>45.26</td>\n",
              "      <td>13</td>\n",
              "      <td>yes</td>\n",
              "      <td>Not placed</td>\n",
              "    </tr>\n",
              "    <tr>\n",
              "      <th>3</th>\n",
              "      <td>4</td>\n",
              "      <td>M</td>\n",
              "      <td>A</td>\n",
              "      <td>71.000000</td>\n",
              "      <td>70.4</td>\n",
              "      <td>36.47</td>\n",
              "      <td>17</td>\n",
              "      <td>yes</td>\n",
              "      <td>Not placed</td>\n",
              "    </tr>\n",
              "    <tr>\n",
              "      <th>4</th>\n",
              "      <td>5</td>\n",
              "      <td>M</td>\n",
              "      <td>A</td>\n",
              "      <td>80.474569</td>\n",
              "      <td>65.5</td>\n",
              "      <td>42.52</td>\n",
              "      <td>17</td>\n",
              "      <td>yes</td>\n",
              "      <td>Not placed</td>\n",
              "    </tr>\n",
              "  </tbody>\n",
              "</table>\n",
              "</div>"
            ],
            "text/plain": [
              "   Roll No Gender Section  SSC Percentage  inter_Diploma_percentage  \\\n",
              "0        1      M       A       87.300000                      65.3   \n",
              "1        2      F       A       89.000000                      92.4   \n",
              "2        3      F       A       67.000000                      68.0   \n",
              "3        4      M       A       71.000000                      70.4   \n",
              "4        5      M       A       80.474569                      65.5   \n",
              "\n",
              "   B.Tech_percentage  Backlogs registered_for_ Placement_Training  \\\n",
              "0              40.00        18                                 NO   \n",
              "1              71.45         0                                yes   \n",
              "2              45.26        13                                yes   \n",
              "3              36.47        17                                yes   \n",
              "4              42.52        17                                yes   \n",
              "\n",
              "  placement status  \n",
              "0       Not placed  \n",
              "1           Placed  \n",
              "2       Not placed  \n",
              "3       Not placed  \n",
              "4       Not placed  "
            ]
          },
          "metadata": {
            "tags": []
          },
          "execution_count": 5
        }
      ]
    },
    {
      "cell_type": "markdown",
      "metadata": {
        "id": "ihj5k00azglS"
      },
      "source": [
        "###  3.1.3) We check for missing values again and make sure that there are no missing values."
      ]
    },
    {
      "cell_type": "code",
      "metadata": {
        "id": "2fwo9mdzzglS",
        "outputId": "81052a1c-c1a6-44eb-8284-5f624ee14aa7"
      },
      "source": [
        "data.isna().any()"
      ],
      "execution_count": null,
      "outputs": [
        {
          "output_type": "execute_result",
          "data": {
            "text/plain": [
              "Roll No                               False\n",
              "Gender                                False\n",
              "Section                               False\n",
              "SSC Percentage                        False\n",
              "inter_Diploma_percentage              False\n",
              "B.Tech_percentage                     False\n",
              "Backlogs                              False\n",
              "registered_for_ Placement_Training    False\n",
              "placement status                      False\n",
              "dtype: bool"
            ]
          },
          "metadata": {
            "tags": []
          },
          "execution_count": 6
        }
      ]
    },
    {
      "cell_type": "markdown",
      "metadata": {
        "id": "QsILErbszglS"
      },
      "source": [
        "### 3.2) Convert the strings into numbers"
      ]
    },
    {
      "cell_type": "markdown",
      "metadata": {
        "id": "Z-hpbt1ZzglT"
      },
      "source": [
        "###  _Most of the classification algorithms cannot handle string information. So, Its better to change the string into numbers_"
      ]
    },
    {
      "cell_type": "code",
      "metadata": {
        "id": "bKWv0A5tzglT"
      },
      "source": [
        "data['Gender'] = data['Gender'].map({'M': 0, 'F': 1})\n",
        "data['Section']=data['Section'].map({'A':0,'B':1})\n",
        "data['registered_for_ Placement_Training']=data['registered_for_ Placement_Training'].map({'NO':0,'yes':1})"
      ],
      "execution_count": null,
      "outputs": []
    },
    {
      "cell_type": "markdown",
      "metadata": {
        "id": "AnHqmmWBzglT"
      },
      "source": [
        "### Now have a look at our dataset again."
      ]
    },
    {
      "cell_type": "code",
      "metadata": {
        "id": "EfzgOVlnzglT",
        "outputId": "12b9b4ed-443f-4fe9-eaa0-ddc3b113e424"
      },
      "source": [
        "data.head()"
      ],
      "execution_count": null,
      "outputs": [
        {
          "output_type": "execute_result",
          "data": {
            "text/html": [
              "<div>\n",
              "<style scoped>\n",
              "    .dataframe tbody tr th:only-of-type {\n",
              "        vertical-align: middle;\n",
              "    }\n",
              "\n",
              "    .dataframe tbody tr th {\n",
              "        vertical-align: top;\n",
              "    }\n",
              "\n",
              "    .dataframe thead th {\n",
              "        text-align: right;\n",
              "    }\n",
              "</style>\n",
              "<table border=\"1\" class=\"dataframe\">\n",
              "  <thead>\n",
              "    <tr style=\"text-align: right;\">\n",
              "      <th></th>\n",
              "      <th>Roll No</th>\n",
              "      <th>Gender</th>\n",
              "      <th>Section</th>\n",
              "      <th>SSC Percentage</th>\n",
              "      <th>inter_Diploma_percentage</th>\n",
              "      <th>B.Tech_percentage</th>\n",
              "      <th>Backlogs</th>\n",
              "      <th>registered_for_ Placement_Training</th>\n",
              "      <th>placement status</th>\n",
              "    </tr>\n",
              "  </thead>\n",
              "  <tbody>\n",
              "    <tr>\n",
              "      <th>0</th>\n",
              "      <td>1</td>\n",
              "      <td>0</td>\n",
              "      <td>0</td>\n",
              "      <td>87.300000</td>\n",
              "      <td>65.3</td>\n",
              "      <td>40.00</td>\n",
              "      <td>18</td>\n",
              "      <td>0</td>\n",
              "      <td>Not placed</td>\n",
              "    </tr>\n",
              "    <tr>\n",
              "      <th>1</th>\n",
              "      <td>2</td>\n",
              "      <td>1</td>\n",
              "      <td>0</td>\n",
              "      <td>89.000000</td>\n",
              "      <td>92.4</td>\n",
              "      <td>71.45</td>\n",
              "      <td>0</td>\n",
              "      <td>1</td>\n",
              "      <td>Placed</td>\n",
              "    </tr>\n",
              "    <tr>\n",
              "      <th>2</th>\n",
              "      <td>3</td>\n",
              "      <td>1</td>\n",
              "      <td>0</td>\n",
              "      <td>67.000000</td>\n",
              "      <td>68.0</td>\n",
              "      <td>45.26</td>\n",
              "      <td>13</td>\n",
              "      <td>1</td>\n",
              "      <td>Not placed</td>\n",
              "    </tr>\n",
              "    <tr>\n",
              "      <th>3</th>\n",
              "      <td>4</td>\n",
              "      <td>0</td>\n",
              "      <td>0</td>\n",
              "      <td>71.000000</td>\n",
              "      <td>70.4</td>\n",
              "      <td>36.47</td>\n",
              "      <td>17</td>\n",
              "      <td>1</td>\n",
              "      <td>Not placed</td>\n",
              "    </tr>\n",
              "    <tr>\n",
              "      <th>4</th>\n",
              "      <td>5</td>\n",
              "      <td>0</td>\n",
              "      <td>0</td>\n",
              "      <td>80.474569</td>\n",
              "      <td>65.5</td>\n",
              "      <td>42.52</td>\n",
              "      <td>17</td>\n",
              "      <td>1</td>\n",
              "      <td>Not placed</td>\n",
              "    </tr>\n",
              "  </tbody>\n",
              "</table>\n",
              "</div>"
            ],
            "text/plain": [
              "   Roll No  Gender  Section  SSC Percentage  inter_Diploma_percentage  \\\n",
              "0        1       0        0       87.300000                      65.3   \n",
              "1        2       1        0       89.000000                      92.4   \n",
              "2        3       1        0       67.000000                      68.0   \n",
              "3        4       0        0       71.000000                      70.4   \n",
              "4        5       0        0       80.474569                      65.5   \n",
              "\n",
              "   B.Tech_percentage  Backlogs  registered_for_ Placement_Training  \\\n",
              "0              40.00        18                                   0   \n",
              "1              71.45         0                                   1   \n",
              "2              45.26        13                                   1   \n",
              "3              36.47        17                                   1   \n",
              "4              42.52        17                                   1   \n",
              "\n",
              "  placement status  \n",
              "0       Not placed  \n",
              "1           Placed  \n",
              "2       Not placed  \n",
              "3       Not placed  \n",
              "4       Not placed  "
            ]
          },
          "metadata": {
            "tags": []
          },
          "execution_count": 8
        }
      ]
    },
    {
      "cell_type": "markdown",
      "metadata": {
        "id": "kUcWuwXUzglU"
      },
      "source": [
        "## 4) Divide the data into features and labels.\n",
        "We are considering __\"Gender\",\"Section\",\"SSC  Percentage\",\"inter_Diploma_percentage\",\"B.Tech_percentage\",\"Backlogs\", \"registered_for_ Placement_Training\"__ as our features and __\"placement status\"__ as our label."
      ]
    },
    {
      "cell_type": "code",
      "metadata": {
        "id": "2p8cuiVbzglU"
      },
      "source": [
        "# features\n",
        "X=data[[\"Gender\",\"Section\",\"SSC Percentage\",\"inter_Diploma_percentage\",\"B.Tech_percentage\",\"Backlogs\",\"registered_for_ Placement_Training\"]].values"
      ],
      "execution_count": null,
      "outputs": []
    },
    {
      "cell_type": "code",
      "metadata": {
        "id": "vygf8I9fzglU"
      },
      "source": [
        "# Labels\n",
        "y=data[\"placement status\"]"
      ],
      "execution_count": null,
      "outputs": []
    },
    {
      "cell_type": "markdown",
      "metadata": {
        "id": "KzSWpF9ozglU"
      },
      "source": [
        "## 5) Now split the data in training data and test data.\n",
        "Note:training data is used to built the model and test data is used to evaluate the model."
      ]
    },
    {
      "cell_type": "code",
      "metadata": {
        "id": "IX-Od2GFzglV"
      },
      "source": [
        "X_train, X_test, y_train, y_test = train_test_split(X, y, test_size=0.2, random_state=10)"
      ],
      "execution_count": null,
      "outputs": []
    },
    {
      "cell_type": "markdown",
      "metadata": {
        "id": "mjoZi0AIzglV"
      },
      "source": [
        "### 5.1) Its always good to check the shapes of X, y ,X_train, X_test, y_train, y_test.\n",
        "Note: 80% is used for training and 20% is used for testing"
      ]
    },
    {
      "cell_type": "code",
      "metadata": {
        "id": "CRZrJi77zglV",
        "outputId": "5cb0ca08-ca46-4b7a-bb35-b6db2eb9c124"
      },
      "source": [
        "print (\" The shape of original feature set is : \",X.shape)\n",
        "print(\"The shape of original class labels is\", y.shape)\n",
        "print(\" The shape of Features in training data\",X_train.shape)\n",
        "print(\"The shape of class labels in training data\",y_train.shape)\n",
        "print(\" The shape of Features in test data\",X_test.shape)\n",
        "print(\"The shape of class labels in test data\",y_test.shape)"
      ],
      "execution_count": null,
      "outputs": [
        {
          "output_type": "stream",
          "text": [
            " The shape of original feature set is :  (117, 7)\n",
            "The shape of original class labels is (117,)\n",
            " The shape of Features in training data (93, 7)\n",
            "The shape of class labels in training data (93,)\n",
            " The shape of Features in test data (24, 7)\n",
            "The shape of class labels in test data (24,)\n"
          ],
          "name": "stdout"
        }
      ]
    },
    {
      "cell_type": "markdown",
      "metadata": {
        "id": "u_4Gi4X4zglW"
      },
      "source": [
        "# Now, Let's apply different models"
      ]
    },
    {
      "cell_type": "markdown",
      "metadata": {
        "id": "A2v38qtszglW"
      },
      "source": [
        "#  <span style=\"color:red\"> <center> 1) Decision tree </centre> </span>"
      ]
    },
    {
      "cell_type": "code",
      "metadata": {
        "id": "UWCg_lEhzglW"
      },
      "source": [
        "model_DT = DecisionTreeClassifier() # Create Decision Tree classifer object\n",
        "model_DT = model_DT.fit(X_train,y_train) # Build the model using training data\n",
        "y_predict_DT = model_DT.predict(X_test) # Apply the model on test data."
      ],
      "execution_count": null,
      "outputs": []
    },
    {
      "cell_type": "code",
      "metadata": {
        "id": "MoWTZUExzglW",
        "outputId": "43112596-397e-425e-9784-f1fabb367616"
      },
      "source": [
        "Actual_predicted_DT=pd.DataFrame({'predicted':y_predict_DT, 'Actual':y_test})\n",
        "Actual_predicted_DT.head()"
      ],
      "execution_count": null,
      "outputs": [
        {
          "output_type": "execute_result",
          "data": {
            "text/html": [
              "<div>\n",
              "<style scoped>\n",
              "    .dataframe tbody tr th:only-of-type {\n",
              "        vertical-align: middle;\n",
              "    }\n",
              "\n",
              "    .dataframe tbody tr th {\n",
              "        vertical-align: top;\n",
              "    }\n",
              "\n",
              "    .dataframe thead th {\n",
              "        text-align: right;\n",
              "    }\n",
              "</style>\n",
              "<table border=\"1\" class=\"dataframe\">\n",
              "  <thead>\n",
              "    <tr style=\"text-align: right;\">\n",
              "      <th></th>\n",
              "      <th>predicted</th>\n",
              "      <th>Actual</th>\n",
              "    </tr>\n",
              "  </thead>\n",
              "  <tbody>\n",
              "    <tr>\n",
              "      <th>45</th>\n",
              "      <td>Not placed</td>\n",
              "      <td>Placed</td>\n",
              "    </tr>\n",
              "    <tr>\n",
              "      <th>95</th>\n",
              "      <td>Not placed</td>\n",
              "      <td>Not placed</td>\n",
              "    </tr>\n",
              "    <tr>\n",
              "      <th>56</th>\n",
              "      <td>Not placed</td>\n",
              "      <td>Not placed</td>\n",
              "    </tr>\n",
              "    <tr>\n",
              "      <th>84</th>\n",
              "      <td>Not placed</td>\n",
              "      <td>Placed</td>\n",
              "    </tr>\n",
              "    <tr>\n",
              "      <th>98</th>\n",
              "      <td>Placed</td>\n",
              "      <td>Placed</td>\n",
              "    </tr>\n",
              "  </tbody>\n",
              "</table>\n",
              "</div>"
            ],
            "text/plain": [
              "     predicted      Actual\n",
              "45  Not placed      Placed\n",
              "95  Not placed  Not placed\n",
              "56  Not placed  Not placed\n",
              "84  Not placed      Placed\n",
              "98      Placed      Placed"
            ]
          },
          "metadata": {
            "tags": []
          },
          "execution_count": 14
        }
      ]
    },
    {
      "cell_type": "markdown",
      "metadata": {
        "id": "gTyWBberzglW"
      },
      "source": [
        "## Check the performance of Decision tree"
      ]
    },
    {
      "cell_type": "markdown",
      "metadata": {
        "id": "PNIwGY4JzglX"
      },
      "source": [
        "### Draw the confusion matrix of decision tree"
      ]
    },
    {
      "cell_type": "code",
      "metadata": {
        "id": "xuFssQf8zglX",
        "outputId": "a2b31f06-52ad-4b8c-a511-e4e7b57db130"
      },
      "source": [
        "from sklearn.metrics import confusion_matrix\n",
        "\n",
        "pd.DataFrame(\n",
        "    confusion_matrix(y_test, y_predict_DT),\n",
        "    columns=['Not placed Predicted', 'placed predicted'],\n",
        "    index=['Not placed', 'placed']\n",
        ")"
      ],
      "execution_count": null,
      "outputs": [
        {
          "output_type": "execute_result",
          "data": {
            "text/html": [
              "<div>\n",
              "<style scoped>\n",
              "    .dataframe tbody tr th:only-of-type {\n",
              "        vertical-align: middle;\n",
              "    }\n",
              "\n",
              "    .dataframe tbody tr th {\n",
              "        vertical-align: top;\n",
              "    }\n",
              "\n",
              "    .dataframe thead th {\n",
              "        text-align: right;\n",
              "    }\n",
              "</style>\n",
              "<table border=\"1\" class=\"dataframe\">\n",
              "  <thead>\n",
              "    <tr style=\"text-align: right;\">\n",
              "      <th></th>\n",
              "      <th>Not placed Predicted</th>\n",
              "      <th>placed predicted</th>\n",
              "    </tr>\n",
              "  </thead>\n",
              "  <tbody>\n",
              "    <tr>\n",
              "      <th>Not placed</th>\n",
              "      <td>10</td>\n",
              "      <td>4</td>\n",
              "    </tr>\n",
              "    <tr>\n",
              "      <th>placed</th>\n",
              "      <td>4</td>\n",
              "      <td>6</td>\n",
              "    </tr>\n",
              "  </tbody>\n",
              "</table>\n",
              "</div>"
            ],
            "text/plain": [
              "            Not placed Predicted  placed predicted\n",
              "Not placed                    10                 4\n",
              "placed                         4                 6"
            ]
          },
          "metadata": {
            "tags": []
          },
          "execution_count": 15
        }
      ]
    },
    {
      "cell_type": "markdown",
      "metadata": {
        "id": "0uL6pSVGzglX"
      },
      "source": [
        "### Calculate Accuracy, recall, precision, f1 Score, of decision tree."
      ]
    },
    {
      "cell_type": "code",
      "metadata": {
        "id": "cGt2G6ljzglX",
        "outputId": "46769a53-1b22-4155-b8b7-741e22f11f9e"
      },
      "source": [
        "print(\"Accuracy of decison tree is \" ,metrics.accuracy_score(y_test, y_predict_DT)*100)\n",
        "print(\"Recall of decision tree is\",metrics.recall_score(y_test, y_predict_DT, pos_label=\"Placed\"))\n",
        "print(\"Precision of decision tree is\",metrics.precision_score(y_test, y_predict_DT, pos_label=\"Placed\"))\n",
        "print(\"f1_score of decision tree is\",metrics.f1_score(y_test, y_predict_DT, pos_label=\"Placed\"))"
      ],
      "execution_count": null,
      "outputs": [
        {
          "output_type": "stream",
          "text": [
            "Accuracy of decison tree is  66.66666666666666\n",
            "Recall of decision tree is 0.6\n",
            "Precision of decision tree is 0.6\n",
            "f1_score of decision tree is 0.6\n"
          ],
          "name": "stdout"
        }
      ]
    },
    {
      "cell_type": "markdown",
      "metadata": {
        "id": "f6d_aQpdzglY"
      },
      "source": [
        "#  <span style=\"color:red\"> <center> 2) K nearest Neighbour </centre> </span>"
      ]
    },
    {
      "cell_type": "code",
      "metadata": {
        "id": "KF-DJKYDzglY"
      },
      "source": [
        "model = KNeighborsClassifier(n_neighbors=3)\n",
        "model = model.fit(X_train,y_train)\n",
        "y_predict_knn = model.predict(X_test)"
      ],
      "execution_count": null,
      "outputs": []
    },
    {
      "cell_type": "code",
      "metadata": {
        "id": "hhXTVsElzglY",
        "outputId": "7d754398-e9c8-424a-e406-d8922bb0f0a6"
      },
      "source": [
        "Actual_predicted_knn=pd.DataFrame({'predicted':y_predict_knn, 'Actual':y_test})\n",
        "Actual_predicted_knn.head()"
      ],
      "execution_count": null,
      "outputs": [
        {
          "output_type": "execute_result",
          "data": {
            "text/html": [
              "<div>\n",
              "<style scoped>\n",
              "    .dataframe tbody tr th:only-of-type {\n",
              "        vertical-align: middle;\n",
              "    }\n",
              "\n",
              "    .dataframe tbody tr th {\n",
              "        vertical-align: top;\n",
              "    }\n",
              "\n",
              "    .dataframe thead th {\n",
              "        text-align: right;\n",
              "    }\n",
              "</style>\n",
              "<table border=\"1\" class=\"dataframe\">\n",
              "  <thead>\n",
              "    <tr style=\"text-align: right;\">\n",
              "      <th></th>\n",
              "      <th>predicted</th>\n",
              "      <th>Actual</th>\n",
              "    </tr>\n",
              "  </thead>\n",
              "  <tbody>\n",
              "    <tr>\n",
              "      <th>45</th>\n",
              "      <td>Placed</td>\n",
              "      <td>Placed</td>\n",
              "    </tr>\n",
              "    <tr>\n",
              "      <th>95</th>\n",
              "      <td>Not placed</td>\n",
              "      <td>Not placed</td>\n",
              "    </tr>\n",
              "    <tr>\n",
              "      <th>56</th>\n",
              "      <td>Not placed</td>\n",
              "      <td>Not placed</td>\n",
              "    </tr>\n",
              "    <tr>\n",
              "      <th>84</th>\n",
              "      <td>Not placed</td>\n",
              "      <td>Placed</td>\n",
              "    </tr>\n",
              "    <tr>\n",
              "      <th>98</th>\n",
              "      <td>Placed</td>\n",
              "      <td>Placed</td>\n",
              "    </tr>\n",
              "  </tbody>\n",
              "</table>\n",
              "</div>"
            ],
            "text/plain": [
              "     predicted      Actual\n",
              "45      Placed      Placed\n",
              "95  Not placed  Not placed\n",
              "56  Not placed  Not placed\n",
              "84  Not placed      Placed\n",
              "98      Placed      Placed"
            ]
          },
          "metadata": {
            "tags": []
          },
          "execution_count": 18
        }
      ]
    },
    {
      "cell_type": "markdown",
      "metadata": {
        "id": "iBMDfZa1zglY"
      },
      "source": [
        "### Draw the confusion matrix of K nearest Neighbour"
      ]
    },
    {
      "cell_type": "code",
      "metadata": {
        "id": "LNaRAEsxzglY",
        "outputId": "17c48a42-07ba-448d-fe5d-9bb721e719e9"
      },
      "source": [
        "from sklearn.metrics import confusion_matrix\n",
        "\n",
        "pd.DataFrame(\n",
        "    confusion_matrix(y_test, y_predict_knn),\n",
        "    columns=['Not placed Predicted', 'placed predicted'],\n",
        "    index=['Not placed', 'placed']\n",
        ")"
      ],
      "execution_count": null,
      "outputs": [
        {
          "output_type": "execute_result",
          "data": {
            "text/html": [
              "<div>\n",
              "<style scoped>\n",
              "    .dataframe tbody tr th:only-of-type {\n",
              "        vertical-align: middle;\n",
              "    }\n",
              "\n",
              "    .dataframe tbody tr th {\n",
              "        vertical-align: top;\n",
              "    }\n",
              "\n",
              "    .dataframe thead th {\n",
              "        text-align: right;\n",
              "    }\n",
              "</style>\n",
              "<table border=\"1\" class=\"dataframe\">\n",
              "  <thead>\n",
              "    <tr style=\"text-align: right;\">\n",
              "      <th></th>\n",
              "      <th>Not placed Predicted</th>\n",
              "      <th>placed predicted</th>\n",
              "    </tr>\n",
              "  </thead>\n",
              "  <tbody>\n",
              "    <tr>\n",
              "      <th>Not placed</th>\n",
              "      <td>12</td>\n",
              "      <td>2</td>\n",
              "    </tr>\n",
              "    <tr>\n",
              "      <th>placed</th>\n",
              "      <td>3</td>\n",
              "      <td>7</td>\n",
              "    </tr>\n",
              "  </tbody>\n",
              "</table>\n",
              "</div>"
            ],
            "text/plain": [
              "            Not placed Predicted  placed predicted\n",
              "Not placed                    12                 2\n",
              "placed                         3                 7"
            ]
          },
          "metadata": {
            "tags": []
          },
          "execution_count": 19
        }
      ]
    },
    {
      "cell_type": "markdown",
      "metadata": {
        "id": "RhryR8T5zglZ"
      },
      "source": [
        "### Calculate Accuracy, recall, precision, f1 Score, of K nearest Neighbour."
      ]
    },
    {
      "cell_type": "code",
      "metadata": {
        "id": "u1-_xllgzglZ",
        "outputId": "fbe1eb1b-9fba-41fd-ac71-d1a202509f2b"
      },
      "source": [
        "print(\"Accuracy of K nearest Neighbour is\" ,metrics.accuracy_score(y_test, y_predict_knn)*100)\n",
        "print(\"Recall of K nearest Neighbour is\",metrics.recall_score(y_test, y_predict_knn, pos_label=\"Placed\"))\n",
        "print(\"Precision of K nearest Neighbour is\",metrics.precision_score(y_test, y_predict_knn, pos_label=\"Placed\"))\n",
        "print(\"f1_score of K nearest Neighbour is\",metrics.f1_score(y_test, y_predict_knn, pos_label=\"Placed\"))"
      ],
      "execution_count": null,
      "outputs": [
        {
          "output_type": "stream",
          "text": [
            "Accuracy of K nearest Neighbour is 79.16666666666666\n",
            "Recall of K nearest Neighbour is 0.7\n",
            "Precision of K nearest Neighbour is 0.7777777777777778\n",
            "f1_score of K nearest Neighbour is 0.7368421052631577\n"
          ],
          "name": "stdout"
        }
      ]
    },
    {
      "cell_type": "markdown",
      "metadata": {
        "id": "uyC2hFTVzglZ"
      },
      "source": [
        "#  <span style=\"color:red\"> <center> 3) Logistic Regresssion </centre> </span>"
      ]
    },
    {
      "cell_type": "code",
      "metadata": {
        "id": "AOFEpBL9zgla"
      },
      "source": [
        "model = LogisticRegression(max_iter=2000) # The model needed 2000 iterations to converge. (To get the optimal parameters)\n",
        "model = model.fit(X_train,y_train)\n",
        "y_predict_lr = model.predict(X_test)"
      ],
      "execution_count": null,
      "outputs": []
    },
    {
      "cell_type": "code",
      "metadata": {
        "id": "-b3nla2hzgla",
        "outputId": "85f06329-b1b5-472f-e52f-d01e0b911e5c"
      },
      "source": [
        "Actual_predicted=pd.DataFrame({'predicted':y_predict_lr, 'Actual':y_test})\n",
        "Actual_predicted.head()"
      ],
      "execution_count": null,
      "outputs": [
        {
          "output_type": "execute_result",
          "data": {
            "text/html": [
              "<div>\n",
              "<style scoped>\n",
              "    .dataframe tbody tr th:only-of-type {\n",
              "        vertical-align: middle;\n",
              "    }\n",
              "\n",
              "    .dataframe tbody tr th {\n",
              "        vertical-align: top;\n",
              "    }\n",
              "\n",
              "    .dataframe thead th {\n",
              "        text-align: right;\n",
              "    }\n",
              "</style>\n",
              "<table border=\"1\" class=\"dataframe\">\n",
              "  <thead>\n",
              "    <tr style=\"text-align: right;\">\n",
              "      <th></th>\n",
              "      <th>predicted</th>\n",
              "      <th>Actual</th>\n",
              "    </tr>\n",
              "  </thead>\n",
              "  <tbody>\n",
              "    <tr>\n",
              "      <th>45</th>\n",
              "      <td>Placed</td>\n",
              "      <td>Placed</td>\n",
              "    </tr>\n",
              "    <tr>\n",
              "      <th>95</th>\n",
              "      <td>Not placed</td>\n",
              "      <td>Not placed</td>\n",
              "    </tr>\n",
              "    <tr>\n",
              "      <th>56</th>\n",
              "      <td>Not placed</td>\n",
              "      <td>Not placed</td>\n",
              "    </tr>\n",
              "    <tr>\n",
              "      <th>84</th>\n",
              "      <td>Not placed</td>\n",
              "      <td>Placed</td>\n",
              "    </tr>\n",
              "    <tr>\n",
              "      <th>98</th>\n",
              "      <td>Placed</td>\n",
              "      <td>Placed</td>\n",
              "    </tr>\n",
              "  </tbody>\n",
              "</table>\n",
              "</div>"
            ],
            "text/plain": [
              "     predicted      Actual\n",
              "45      Placed      Placed\n",
              "95  Not placed  Not placed\n",
              "56  Not placed  Not placed\n",
              "84  Not placed      Placed\n",
              "98      Placed      Placed"
            ]
          },
          "metadata": {
            "tags": []
          },
          "execution_count": 34
        }
      ]
    },
    {
      "cell_type": "markdown",
      "metadata": {
        "id": "cronlKsJzgla"
      },
      "source": [
        "### Draw the confusion matrix of Logistic Regresssion"
      ]
    },
    {
      "cell_type": "code",
      "metadata": {
        "id": "1uehpd7vzgla",
        "outputId": "672f37ca-8170-4773-bdaa-3baf42c00d78"
      },
      "source": [
        "from sklearn.metrics import confusion_matrix\n",
        "\n",
        "pd.DataFrame(\n",
        "    confusion_matrix(y_test, y_predict_lr),\n",
        "    columns=['Not placed Predicted', 'placed predicted'],\n",
        "    index=['Not placed', 'placed']\n",
        ")"
      ],
      "execution_count": null,
      "outputs": [
        {
          "output_type": "execute_result",
          "data": {
            "text/html": [
              "<div>\n",
              "<style scoped>\n",
              "    .dataframe tbody tr th:only-of-type {\n",
              "        vertical-align: middle;\n",
              "    }\n",
              "\n",
              "    .dataframe tbody tr th {\n",
              "        vertical-align: top;\n",
              "    }\n",
              "\n",
              "    .dataframe thead th {\n",
              "        text-align: right;\n",
              "    }\n",
              "</style>\n",
              "<table border=\"1\" class=\"dataframe\">\n",
              "  <thead>\n",
              "    <tr style=\"text-align: right;\">\n",
              "      <th></th>\n",
              "      <th>Not placed Predicted</th>\n",
              "      <th>placed predicted</th>\n",
              "    </tr>\n",
              "  </thead>\n",
              "  <tbody>\n",
              "    <tr>\n",
              "      <th>Not placed</th>\n",
              "      <td>12</td>\n",
              "      <td>2</td>\n",
              "    </tr>\n",
              "    <tr>\n",
              "      <th>placed</th>\n",
              "      <td>0</td>\n",
              "      <td>10</td>\n",
              "    </tr>\n",
              "  </tbody>\n",
              "</table>\n",
              "</div>"
            ],
            "text/plain": [
              "            Not placed Predicted  placed predicted\n",
              "Not placed                    12                 2\n",
              "placed                         0                10"
            ]
          },
          "metadata": {
            "tags": []
          },
          "execution_count": 23
        }
      ]
    },
    {
      "cell_type": "markdown",
      "metadata": {
        "id": "jSb3PFV3zgla"
      },
      "source": [
        "### Calculate Accuracy, recall, precision, f1 Score, of Logistic Regresssion."
      ]
    },
    {
      "cell_type": "code",
      "metadata": {
        "id": "WrkFV8HFzglb",
        "outputId": "a7758f55-e647-4843-8687-401cefb6c18e"
      },
      "source": [
        "print(\"Accuracy of Logistic Regresssion is \" ,metrics.accuracy_score(y_test, y_predict_lr)*100)\n",
        "print(\"recall of Logistic Regresssion is\",metrics.recall_score(y_test, y_predict_lr, pos_label=\"Placed\"))\n",
        "print(\"Precision of Logistic Regresssion is\",metrics.precision_score(y_test, y_predict_lr, pos_label=\"Placed\"))\n",
        "print(\"f1_score of Logistic Regresssion is\",metrics.f1_score(y_test, y_predict_lr, pos_label=\"Placed\"))"
      ],
      "execution_count": null,
      "outputs": [
        {
          "output_type": "stream",
          "text": [
            "Accuracy of Logistic Regresssion is  91.66666666666666\n",
            "recall of Logistic Regresssion is 1.0\n",
            "Precision of Logistic Regresssion is 0.8333333333333334\n",
            "f1_score of Logistic Regresssion is 0.9090909090909091\n"
          ],
          "name": "stdout"
        }
      ]
    },
    {
      "cell_type": "markdown",
      "metadata": {
        "id": "UKl8oiwYzglb"
      },
      "source": [
        "#  <span style=\"color:red\"> <center> 4) Support Vector Machine </centre> </span>"
      ]
    },
    {
      "cell_type": "code",
      "metadata": {
        "id": "6QLCmr-Hzglb"
      },
      "source": [
        "model = SVC()\n",
        "model = model.fit(X_train,y_train)\n",
        "y_predict_svc = model.predict(X_test)"
      ],
      "execution_count": null,
      "outputs": []
    },
    {
      "cell_type": "code",
      "metadata": {
        "id": "iKbHuz8pzglb",
        "outputId": "20763a57-e0db-4eef-c2f3-a7d7d62dc3d8"
      },
      "source": [
        "Actual_predicted=pd.DataFrame({'predicted':y_predict_svc, 'Actual':y_test})\n",
        "Actual_predicted.head()"
      ],
      "execution_count": null,
      "outputs": [
        {
          "output_type": "execute_result",
          "data": {
            "text/html": [
              "<div>\n",
              "<style scoped>\n",
              "    .dataframe tbody tr th:only-of-type {\n",
              "        vertical-align: middle;\n",
              "    }\n",
              "\n",
              "    .dataframe tbody tr th {\n",
              "        vertical-align: top;\n",
              "    }\n",
              "\n",
              "    .dataframe thead th {\n",
              "        text-align: right;\n",
              "    }\n",
              "</style>\n",
              "<table border=\"1\" class=\"dataframe\">\n",
              "  <thead>\n",
              "    <tr style=\"text-align: right;\">\n",
              "      <th></th>\n",
              "      <th>predicted</th>\n",
              "      <th>Actual</th>\n",
              "    </tr>\n",
              "  </thead>\n",
              "  <tbody>\n",
              "    <tr>\n",
              "      <th>45</th>\n",
              "      <td>Not placed</td>\n",
              "      <td>Placed</td>\n",
              "    </tr>\n",
              "    <tr>\n",
              "      <th>95</th>\n",
              "      <td>Not placed</td>\n",
              "      <td>Not placed</td>\n",
              "    </tr>\n",
              "    <tr>\n",
              "      <th>56</th>\n",
              "      <td>Not placed</td>\n",
              "      <td>Not placed</td>\n",
              "    </tr>\n",
              "    <tr>\n",
              "      <th>84</th>\n",
              "      <td>Not placed</td>\n",
              "      <td>Placed</td>\n",
              "    </tr>\n",
              "    <tr>\n",
              "      <th>98</th>\n",
              "      <td>Placed</td>\n",
              "      <td>Placed</td>\n",
              "    </tr>\n",
              "  </tbody>\n",
              "</table>\n",
              "</div>"
            ],
            "text/plain": [
              "     predicted      Actual\n",
              "45  Not placed      Placed\n",
              "95  Not placed  Not placed\n",
              "56  Not placed  Not placed\n",
              "84  Not placed      Placed\n",
              "98      Placed      Placed"
            ]
          },
          "metadata": {
            "tags": []
          },
          "execution_count": 26
        }
      ]
    },
    {
      "cell_type": "markdown",
      "metadata": {
        "id": "IBKQLNYnzglc"
      },
      "source": [
        "### Draw the confusion matrix of Support Vector Machine"
      ]
    },
    {
      "cell_type": "code",
      "metadata": {
        "id": "TPe0g6Qmzglc",
        "outputId": "cb071cfc-3b31-4ad0-bc1e-3966508ce9b6"
      },
      "source": [
        "from sklearn.metrics import confusion_matrix\n",
        "\n",
        "pd.DataFrame(\n",
        "    confusion_matrix(y_test, y_predict_svc),\n",
        "    columns=['Not placed Predicted', 'placed predicted'],\n",
        "    index=['Not placed', 'placed']\n",
        ")"
      ],
      "execution_count": null,
      "outputs": [
        {
          "output_type": "execute_result",
          "data": {
            "text/html": [
              "<div>\n",
              "<style scoped>\n",
              "    .dataframe tbody tr th:only-of-type {\n",
              "        vertical-align: middle;\n",
              "    }\n",
              "\n",
              "    .dataframe tbody tr th {\n",
              "        vertical-align: top;\n",
              "    }\n",
              "\n",
              "    .dataframe thead th {\n",
              "        text-align: right;\n",
              "    }\n",
              "</style>\n",
              "<table border=\"1\" class=\"dataframe\">\n",
              "  <thead>\n",
              "    <tr style=\"text-align: right;\">\n",
              "      <th></th>\n",
              "      <th>Not placed Predicted</th>\n",
              "      <th>placed predicted</th>\n",
              "    </tr>\n",
              "  </thead>\n",
              "  <tbody>\n",
              "    <tr>\n",
              "      <th>Not placed</th>\n",
              "      <td>14</td>\n",
              "      <td>0</td>\n",
              "    </tr>\n",
              "    <tr>\n",
              "      <th>placed</th>\n",
              "      <td>6</td>\n",
              "      <td>4</td>\n",
              "    </tr>\n",
              "  </tbody>\n",
              "</table>\n",
              "</div>"
            ],
            "text/plain": [
              "            Not placed Predicted  placed predicted\n",
              "Not placed                    14                 0\n",
              "placed                         6                 4"
            ]
          },
          "metadata": {
            "tags": []
          },
          "execution_count": 27
        }
      ]
    },
    {
      "cell_type": "markdown",
      "metadata": {
        "id": "LSsxS0Pezglc"
      },
      "source": [
        "### Calculate Accuracy, recall, precision, f1 Score, of Support Vector Machine."
      ]
    },
    {
      "cell_type": "code",
      "metadata": {
        "id": "mBTVYkjSzglc",
        "outputId": "914767ba-0bec-4f81-b4e5-a51656bcd277"
      },
      "source": [
        "print(\"Accuracy of Support Vector Machine is \" ,metrics.accuracy_score(y_test, y_predict_svc)*100)\n",
        "print(\"recall of Support Vector Machine is\",metrics.recall_score(y_test, y_predict_svc, pos_label=\"Placed\"))\n",
        "print(\"Precision of Support Vector Machine is\",metrics.precision_score(y_test, y_predict_svc, pos_label=\"Placed\"))\n",
        "print(\"f1_score of Support Vector Machine is\",metrics.f1_score(y_test, y_predict_svc, pos_label=\"Placed\"))"
      ],
      "execution_count": null,
      "outputs": [
        {
          "output_type": "stream",
          "text": [
            "Accuracy of Support Vector Machine is  75.0\n",
            "recall of Support Vector Machine is 0.4\n",
            "Precision of Support Vector Machine is 1.0\n",
            "f1_score of Support Vector Machine is 0.5714285714285715\n"
          ],
          "name": "stdout"
        }
      ]
    },
    {
      "cell_type": "markdown",
      "metadata": {
        "id": "AYTtXJWEzglc"
      },
      "source": [
        "#  <span style=\"color:red\"> <center> 4) Naive bayes </centre> </span>"
      ]
    },
    {
      "cell_type": "code",
      "metadata": {
        "id": "CseKZ6f5zgld"
      },
      "source": [
        "model = GaussianNB()\n",
        "model = model.fit(X_train,y_train)\n",
        "y_predict_nb = model.predict(X_test)"
      ],
      "execution_count": null,
      "outputs": []
    },
    {
      "cell_type": "code",
      "metadata": {
        "id": "pMXKfQHOzgld",
        "outputId": "8cf3b047-bac9-43b0-c149-139a850c7881"
      },
      "source": [
        "Actual_predicted=pd.DataFrame({'predicted':y_predict_svc, 'Actual':y_test})\n",
        "Actual_predicted.head()"
      ],
      "execution_count": null,
      "outputs": [
        {
          "output_type": "execute_result",
          "data": {
            "text/html": [
              "<div>\n",
              "<style scoped>\n",
              "    .dataframe tbody tr th:only-of-type {\n",
              "        vertical-align: middle;\n",
              "    }\n",
              "\n",
              "    .dataframe tbody tr th {\n",
              "        vertical-align: top;\n",
              "    }\n",
              "\n",
              "    .dataframe thead th {\n",
              "        text-align: right;\n",
              "    }\n",
              "</style>\n",
              "<table border=\"1\" class=\"dataframe\">\n",
              "  <thead>\n",
              "    <tr style=\"text-align: right;\">\n",
              "      <th></th>\n",
              "      <th>predicted</th>\n",
              "      <th>Actual</th>\n",
              "    </tr>\n",
              "  </thead>\n",
              "  <tbody>\n",
              "    <tr>\n",
              "      <th>45</th>\n",
              "      <td>Not placed</td>\n",
              "      <td>Placed</td>\n",
              "    </tr>\n",
              "    <tr>\n",
              "      <th>95</th>\n",
              "      <td>Not placed</td>\n",
              "      <td>Not placed</td>\n",
              "    </tr>\n",
              "    <tr>\n",
              "      <th>56</th>\n",
              "      <td>Not placed</td>\n",
              "      <td>Not placed</td>\n",
              "    </tr>\n",
              "    <tr>\n",
              "      <th>84</th>\n",
              "      <td>Not placed</td>\n",
              "      <td>Placed</td>\n",
              "    </tr>\n",
              "    <tr>\n",
              "      <th>98</th>\n",
              "      <td>Placed</td>\n",
              "      <td>Placed</td>\n",
              "    </tr>\n",
              "  </tbody>\n",
              "</table>\n",
              "</div>"
            ],
            "text/plain": [
              "     predicted      Actual\n",
              "45  Not placed      Placed\n",
              "95  Not placed  Not placed\n",
              "56  Not placed  Not placed\n",
              "84  Not placed      Placed\n",
              "98      Placed      Placed"
            ]
          },
          "metadata": {
            "tags": []
          },
          "execution_count": 30
        }
      ]
    },
    {
      "cell_type": "code",
      "metadata": {
        "id": "FutXzaXPzgld",
        "outputId": "e3552d65-8186-4c48-a69d-b11ac42e4e6d"
      },
      "source": [
        "from sklearn.metrics import confusion_matrix\n",
        "\n",
        "pd.DataFrame(\n",
        "    confusion_matrix(y_test, y_predict_svc),\n",
        "    columns=['Not placed Predicted', 'placed predicted'],\n",
        "    index=['Not placed', 'placed']\n",
        ")"
      ],
      "execution_count": null,
      "outputs": [
        {
          "output_type": "execute_result",
          "data": {
            "text/html": [
              "<div>\n",
              "<style scoped>\n",
              "    .dataframe tbody tr th:only-of-type {\n",
              "        vertical-align: middle;\n",
              "    }\n",
              "\n",
              "    .dataframe tbody tr th {\n",
              "        vertical-align: top;\n",
              "    }\n",
              "\n",
              "    .dataframe thead th {\n",
              "        text-align: right;\n",
              "    }\n",
              "</style>\n",
              "<table border=\"1\" class=\"dataframe\">\n",
              "  <thead>\n",
              "    <tr style=\"text-align: right;\">\n",
              "      <th></th>\n",
              "      <th>Not placed Predicted</th>\n",
              "      <th>placed predicted</th>\n",
              "    </tr>\n",
              "  </thead>\n",
              "  <tbody>\n",
              "    <tr>\n",
              "      <th>Not placed</th>\n",
              "      <td>14</td>\n",
              "      <td>0</td>\n",
              "    </tr>\n",
              "    <tr>\n",
              "      <th>placed</th>\n",
              "      <td>6</td>\n",
              "      <td>4</td>\n",
              "    </tr>\n",
              "  </tbody>\n",
              "</table>\n",
              "</div>"
            ],
            "text/plain": [
              "            Not placed Predicted  placed predicted\n",
              "Not placed                    14                 0\n",
              "placed                         6                 4"
            ]
          },
          "metadata": {
            "tags": []
          },
          "execution_count": 31
        }
      ]
    },
    {
      "cell_type": "code",
      "metadata": {
        "id": "0uaP191nzgld",
        "outputId": "4d765199-1ebd-481f-acd1-ed6b0f0a5f03"
      },
      "source": [
        "print(\"Accuracy of Naive bayes is \" ,metrics.accuracy_score(y_test, y_predict_svc)*100)\n",
        "print(\"recall of Naive bayes is\",metrics.recall_score(y_test, y_predict_svc, pos_label=\"Placed\"))\n",
        "print(\"Precision of Naive bayes is\",metrics.precision_score(y_test, y_predict_svc, pos_label=\"Placed\"))\n",
        "print(\"f1_score of Naive is\",metrics.f1_score(y_test, y_predict_svc, pos_label=\"Placed\"))"
      ],
      "execution_count": null,
      "outputs": [
        {
          "output_type": "stream",
          "text": [
            "Accuracy of Naive bayes is  75.0\n",
            "recall of Naive bayes is 0.4\n",
            "Precision of Naive bayes is 1.0\n",
            "f1_score of Naive is 0.5714285714285715\n"
          ],
          "name": "stdout"
        }
      ]
    }
  ]
}